{
  "nbformat": 4,
  "nbformat_minor": 0,
  "metadata": {
    "colab": {
      "provenance": [],
      "authorship_tag": "ABX9TyNm+oNh/8Af+PU/2wlbAY33",
      "include_colab_link": true
    },
    "kernelspec": {
      "name": "python3",
      "display_name": "Python 3"
    },
    "language_info": {
      "name": "python"
    }
  },
  "cells": [
    {
      "cell_type": "markdown",
      "metadata": {
        "id": "view-in-github",
        "colab_type": "text"
      },
      "source": [
        "<a href=\"https://colab.research.google.com/github/CiaraFarrellSETU/Dissertation_code/blob/main/loading_images.ipynb\" target=\"_parent\"><img src=\"https://colab.research.google.com/assets/colab-badge.svg\" alt=\"Open In Colab\"/></a>"
      ]
    },
    {
      "cell_type": "code",
      "execution_count": 1,
      "metadata": {
        "colab": {
          "base_uri": "https://localhost:8080/"
        },
        "id": "aqZ5RJNR5abU",
        "outputId": "06d0f3ec-1c36-4507-e97f-29e6034a3c08"
      },
      "outputs": [
        {
          "output_type": "stream",
          "name": "stdout",
          "text": [
            "Mounted at /content/gdrive\n"
          ]
        }
      ],
      "source": [
        "from google.colab import drive\n",
        "\n",
        "# Mount your Google Drive\n",
        "drive.mount('/content/gdrive')"
      ]
    },
    {
      "cell_type": "code",
      "source": [
        "import zipfile\n",
        "\n",
        "with zipfile.ZipFile('/content/gdrive/MyDrive/dogeye.zip', 'r') as zip_ref:\n",
        "    zip_ref.extractall('/content/unzipp_d')  # Replace with desired destination directory"
      ],
      "metadata": {
        "id": "TmjWK7aE5s0i"
      },
      "execution_count": 2,
      "outputs": []
    },
    {
      "cell_type": "code",
      "source": [
        "base_dir = '/content/unzipp_d/dogeye'\n",
        "\n",
        "train_dir = '/content/unzipp_d/dogeye/train'\n",
        "cat_train_dir = '/content/unzipp_d/dogeye/train/cataract'\n",
        "healthy_train_dir = '/content/unzipp_d/dogeye/train/healthy'\n",
        "mas_train_dir = '/content/unzipp_d/dogeye/train/mas'\n",
        "conj_train_dir = '/content/unzipp_d/dogeye/train/conj'\n",
        "ulcer_train_dir = '/content/unzipp_d/dogeye/train/ulcer'\n",
        "nuc_train_dir = '/content/unzipp_d/dogeye/train/nuc'\n",
        "\n",
        "test_dir = '/content/unzipp_d/dogeye/test'\n",
        "cat_test_dir = '/content/unzipp_d/dogeye/test/cataract'\n",
        "healthy_test_dir = '/content/unzipp_d/dogeye/test/healthy'\n",
        "mas_test_dir = '/content/unzipp_d/dogeye/test/mas'\n",
        "conj_test_dir = '/content/unzipp_d/dogeye/test/conj'\n",
        "ulcer_test_dir = '/content/unzipp_d/dogeye/test/ulcer'\n",
        "nuc_test_dir = '/content/unzipp_d/dogeye/test/nuc'\n",
        "\n",
        "val_dir = '/content/unzipp_d/dogeye/valid'\n",
        "cat_val_dir = '/content/unzipp_d/dogeye/valid/cataract'\n",
        "healthy_val_dir = '/content/unzipp_d/dogeye/valid/healthy'\n",
        "mas_val_dir = '/content/unzipp_d/dogeye/valid/mas'\n",
        "conj_val_dir = '/content/unzipp_d/dogeye/valid/conj'\n",
        "ulcer_val_dir = '/content/unzipp_d/dogeye/valid/ucler'\n",
        "nuc_val_dir = '/content/unzipp_d/dogeye/valid/nuc'"
      ],
      "metadata": {
        "id": "RCVPgjOr5tI3"
      },
      "execution_count": 3,
      "outputs": []
    },
    {
      "cell_type": "code",
      "source": [
        "import os\n",
        "#train\n",
        "num_cat_train = len(os.listdir(cat_train_dir))\n",
        "num_healthy_train = len(os.listdir(healthy_train_dir))\n",
        "\n",
        "num_mas_train = len(os.listdir(mas_train_dir))\n",
        "num_conj_train = len(os.listdir(conj_train_dir))\n",
        "num_ulcer_train = len(os.listdir(ulcer_train_dir))\n",
        "num_nuc_train = len(os.listdir(nuc_train_dir))\n",
        "\n",
        "#test\n",
        "num_cat_test = len(os.listdir(cat_test_dir))\n",
        "num_healthy_test = len(os.listdir(healthy_test_dir))\n",
        "\n",
        "num_mas_test = len(os.listdir(mas_test_dir))\n",
        "num_conj_test = len(os.listdir(conj_test_dir))\n",
        "num_ulcer_test = len(os.listdir(ulcer_test_dir))\n",
        "num_nuc_test = len(os.listdir(nuc_test_dir))\n",
        "\n",
        "#val\n",
        "num_cat_val = len(os.listdir(cat_val_dir))\n",
        "num_healthy_val = len(os.listdir(healthy_val_dir))\n",
        "\n",
        "num_mas_val = len(os.listdir(mas_val_dir))\n",
        "num_conj_val = len(os.listdir(conj_val_dir))\n",
        "num_ulcer_val = len(os.listdir(ulcer_val_dir))\n",
        "num_nuc_val = len(os.listdir(nuc_val_dir))"
      ],
      "metadata": {
        "id": "rv_JkxYh5ymr"
      },
      "execution_count": 4,
      "outputs": []
    },
    {
      "cell_type": "code",
      "source": [
        "print(\"--\")\n",
        "print(\"Total Training cat Images\",num_cat_train)\n",
        "print(\"Total Training conj Images\",num_conj_train)\n",
        "\n",
        "print(\"Total Training healthy Images\",num_healthy_train)\n",
        "print(\"Total Training mas Images\",num_mas_train)\n",
        "print(\"Total Training nuc Images\",num_nuc_train)\n",
        "print(\"Total Training ulcer Images\",num_ulcer_train)\n",
        "print(\"--\")\n",
        "print(\"Total test cat Images\",num_cat_test)\n",
        "print(\"Total test healthy Images\",num_healthy_test)\n",
        "\n",
        "print(\"Total test mas Images\",num_mas_test)\n",
        "print(\"Total Training conj Images\",num_conj_test)\n",
        "print(\"Total Training ulcer Images\",num_ulcer_test)\n",
        "print(\"Total Training nuc Images\",num_nuc_test)\n",
        "print(\"--\")\n",
        "print(\"Total validation cat Images\",num_cat_val)\n",
        "print(\"Total validation healthy Images\",num_healthy_val)\n",
        "\n",
        "print(\"Total validation mas Images\",num_mas_val)\n",
        "print(\"Total Training conj Images\",num_conj_val)\n",
        "print(\"Total Training ulcer Images\",num_ulcer_val)\n",
        "print(\"Total Training nuc Images\",num_nuc_val)\n",
        "print(\"--\")"
      ],
      "metadata": {
        "colab": {
          "base_uri": "https://localhost:8080/"
        },
        "id": "eXC9vvTJ509t",
        "outputId": "151f7757-19d3-4491-ebf7-8ef1b614c085"
      },
      "execution_count": 5,
      "outputs": [
        {
          "output_type": "stream",
          "name": "stdout",
          "text": [
            "--\n",
            "Total Training cat Images 4500\n",
            "Total Training conj Images 4500\n",
            "Total Training healthy Images 4500\n",
            "Total Training mas Images 4500\n",
            "Total Training nuc Images 4500\n",
            "Total Training ulcer Images 4464\n",
            "--\n",
            "Total test cat Images 179\n",
            "Total test healthy Images 179\n",
            "Total test mas Images 179\n",
            "Total Training conj Images 179\n",
            "Total Training ulcer Images 179\n",
            "Total Training nuc Images 179\n",
            "--\n",
            "Total validation cat Images 421\n",
            "Total validation healthy Images 420\n",
            "Total validation mas Images 420\n",
            "Total Training conj Images 420\n",
            "Total Training ulcer Images 408\n",
            "Total Training nuc Images 400\n",
            "--\n"
          ]
        }
      ]
    },
    {
      "cell_type": "code",
      "source": [
        "total_train = num_cat_train+num_healthy_train+num_mas_train+num_conj_train+num_ulcer_train+num_nuc_train\n",
        "total_validation = num_cat_val+num_healthy_val+num_mas_val+num_conj_val+num_ulcer_val+num_nuc_val\n",
        "total_test = num_cat_test+num_healthy_test+num_mas_test+num_conj_test+num_ulcer_test+num_nuc_test\n",
        "\n",
        "total_images = total_train + total_validation + total_test\n",
        "\n",
        "print(\"--\")\n",
        "print(\"Total Training Images\",total_train)\n",
        "print(\"--\")\n",
        "print(\"Total Validation Images\",total_validation)\n",
        "print(\"--\")\n",
        "print(\"Total Testing Images\",total_test)\n",
        "print(\"--\")\n",
        "print(\"Total Images\",total_images)\n",
        "print(\"--\")"
      ],
      "metadata": {
        "colab": {
          "base_uri": "https://localhost:8080/"
        },
        "id": "tnMQahw853FS",
        "outputId": "4a6d3c79-c5f8-46ad-8027-1ffd0874a7a1"
      },
      "execution_count": 6,
      "outputs": [
        {
          "output_type": "stream",
          "name": "stdout",
          "text": [
            "--\n",
            "Total Training Images 26964\n",
            "--\n",
            "Total Validation Images 2489\n",
            "--\n",
            "Total Testing Images 1074\n",
            "--\n",
            "Total Images 30527\n",
            "--\n"
          ]
        }
      ]
    }
  ]
}