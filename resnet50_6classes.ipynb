{
  "cells": [
    {
      "cell_type": "markdown",
      "metadata": {
        "id": "view-in-github",
        "colab_type": "text"
      },
      "source": [
        "<a href=\"https://colab.research.google.com/github/CiaraFarrellSETU/Dissertation_code/blob/main/resnet50_6classes.ipynb\" target=\"_parent\"><img src=\"https://colab.research.google.com/assets/colab-badge.svg\" alt=\"Open In Colab\"/></a>"
      ]
    },
    {
      "cell_type": "code",
      "execution_count": null,
      "metadata": {
        "id": "Sb012JBzAME7"
      },
      "outputs": [],
      "source": [
        "from timeit import default_timer as timer\n",
        "\n",
        "start = timer()"
      ]
    },
    {
      "cell_type": "code",
      "execution_count": null,
      "metadata": {
        "id": "F1cKNE8kARNS"
      },
      "outputs": [],
      "source": [
        "import numpy as np\n",
        "import pandas as pd\n",
        "from pathlib import Path\n",
        "import os.path\n",
        "from tensorflow.keras.preprocessing import image\n",
        "from tensorflow.keras.layers import GlobalAveragePooling2D\n",
        "import matplotlib.pyplot as plt\n",
        "import seaborn as sns\n",
        "from sklearn.model_selection import train_test_split\n",
        "import tensorflow as tf\n",
        "from sklearn.metrics import confusion_matrix, classification_report"
      ]
    },
    {
      "cell_type": "code",
      "execution_count": null,
      "metadata": {
        "id": "omv3D2ktAUBV"
      },
      "outputs": [],
      "source": [
        "from google.colab import drive\n",
        "\n",
        "# Mount your Google Drive\n",
        "drive.mount('/content/gdrive')"
      ]
    },
    {
      "cell_type": "code",
      "execution_count": null,
      "metadata": {
        "id": "NfU8GKJPAVSY"
      },
      "outputs": [],
      "source": [
        "import zipfile\n",
        "\n",
        "with zipfile.ZipFile('/content/gdrive/MyDrive/dogeye.zip', 'r') as zip_ref:\n",
        "    zip_ref.extractall('/content/unzipp_d')"
      ]
    },
    {
      "cell_type": "code",
      "execution_count": null,
      "metadata": {
        "id": "7Q5JXUAaAZgu"
      },
      "outputs": [],
      "source": [
        "base_dir = '/content/unzipp_d/dogeye'\n",
        "\n",
        "train_dir = '/content/unzipp_d/dogeye/train'\n",
        "cat_train_dir = '/content/unzipp_d/dogeye/train/cataract'\n",
        "healthy_train_dir = '/content/unzipp_d/dogeye/train/healthy'\n",
        "mas_train_dir = '/content/unzipp_d/dogeye/train/mas'\n",
        "conj_train_dir = '/content/unzipp_d/dogeye/train/conj'\n",
        "ulcer_train_dir = '/content/unzipp_d/dogeye/train/ulcer'\n",
        "nuc_train_dir = '/content/unzipp_d/dogeye/train/nuc'\n",
        "\n",
        "test_dir = '/content/unzipp_d/dogeye/test'\n",
        "cat_test_dir = '/content/unzipp_d/dogeye/test/cataract'\n",
        "healthy_test_dir = '/content/unzipp_d/dogeye/test/healthy'\n",
        "mas_test_dir = '/content/unzipp_d/dogeye/test/mas'\n",
        "conj_test_dir = '/content/unzipp_d/dogeye/test/conj'\n",
        "ulcer_test_dir = '/content/unzipp_d/dogeye/test/ulcer'\n",
        "nuc_test_dir = '/content/unzipp_d/dogeye/test/nuc'\n",
        "\n",
        "val_dir = '/content/unzipp_d/dogeye/valid'\n",
        "cat_val_dir = '/content/unzipp_d/dogeye/valid/cataract'\n",
        "healthy_val_dir = '/content/unzipp_d/dogeye/valid/healthy'\n",
        "mas_val_dir = '/content/unzipp_d/dogeye/valid/mas'\n",
        "conj_val_dir = '/content/unzipp_d/dogeye/valid/conj'\n",
        "ulcer_val_dir = '/content/unzipp_d/dogeye/valid/ucler'\n",
        "nuc_val_dir = '/content/unzipp_d/dogeye/valid/nuc'"
      ]
    },
    {
      "cell_type": "code",
      "execution_count": null,
      "metadata": {
        "id": "gMzPqL3FAbTV"
      },
      "outputs": [],
      "source": [
        "import os\n",
        "#train\n",
        "num_cat_train = len(os.listdir(cat_train_dir))\n",
        "num_healthy_train = len(os.listdir(healthy_train_dir))\n",
        "\n",
        "num_mas_train = len(os.listdir(mas_train_dir))\n",
        "num_conj_train = len(os.listdir(conj_train_dir))\n",
        "num_ulcer_train = len(os.listdir(ulcer_train_dir))\n",
        "num_nuc_train = len(os.listdir(nuc_train_dir))\n",
        "\n",
        "#test\n",
        "num_cat_test = len(os.listdir(cat_test_dir))\n",
        "num_healthy_test = len(os.listdir(healthy_test_dir))\n",
        "\n",
        "num_mas_test = len(os.listdir(mas_test_dir))\n",
        "num_conj_test = len(os.listdir(conj_test_dir))\n",
        "num_ulcer_test = len(os.listdir(ulcer_test_dir))\n",
        "num_nuc_test = len(os.listdir(nuc_test_dir))\n",
        "\n",
        "#val\n",
        "num_cat_val = len(os.listdir(cat_val_dir))\n",
        "num_healthy_val = len(os.listdir(healthy_val_dir))\n",
        "\n",
        "num_mas_val = len(os.listdir(mas_val_dir))\n",
        "num_conj_val = len(os.listdir(conj_val_dir))\n",
        "num_ulcer_val = len(os.listdir(ulcer_val_dir))\n",
        "num_nuc_val = len(os.listdir(nuc_val_dir))"
      ]
    },
    {
      "cell_type": "code",
      "execution_count": null,
      "metadata": {
        "id": "LuVNyyxzAd68"
      },
      "outputs": [],
      "source": [
        "print(\"--\")\n",
        "print(\"Total Training cat Images\",num_cat_train)\n",
        "print(\"Total Training conj Images\",num_conj_train)\n",
        "\n",
        "print(\"Total Training healthy Images\",num_healthy_train)\n",
        "print(\"Total Training mas Images\",num_mas_train)\n",
        "print(\"Total Training nuc Images\",num_nuc_train)\n",
        "print(\"Total Training ulcer Images\",num_ulcer_train)\n",
        "print(\"--\")\n",
        "print(\"Total test cat Images\",num_cat_test)\n",
        "print(\"Total test healthy Images\",num_healthy_test)\n",
        "\n",
        "print(\"Total test mas Images\",num_mas_test)\n",
        "print(\"Total Training conj Images\",num_conj_test)\n",
        "print(\"Total Training ulcer Images\",num_ulcer_test)\n",
        "print(\"Total Training nuc Images\",num_nuc_test)\n",
        "print(\"--\")\n",
        "print(\"Total validation cat Images\",num_cat_val)\n",
        "print(\"Total validation healthy Images\",num_healthy_val)\n",
        "\n",
        "print(\"Total validation mas Images\",num_mas_val)\n",
        "print(\"Total Training conj Images\",num_conj_val)\n",
        "print(\"Total Training ulcer Images\",num_ulcer_val)\n",
        "print(\"Total Training nuc Images\",num_nuc_val)\n",
        "print(\"--\")"
      ]
    },
    {
      "cell_type": "code",
      "execution_count": null,
      "metadata": {
        "id": "PcWITg5-AixF"
      },
      "outputs": [],
      "source": [
        "total_train = num_cat_train+num_mas_train+num_conj_train+num_ulcer_train+num_nuc_train+num_healthy_train\n",
        "total_validation = num_cat_val+num_mas_val+num_conj_val+num_ulcer_val+num_nuc_val+num_healthy_val\n",
        "total_test = num_cat_test+num_mas_test+num_conj_test+num_ulcer_test+num_nuc_test+num_healthy_test\n",
        "\n",
        "total_images = total_train + total_validation + total_test\n",
        "\n",
        "print(\"--\")\n",
        "print(\"Total Training Images\",total_train)\n",
        "print(\"--\")\n",
        "print(\"Total Validation Images\",total_validation)\n",
        "print(\"--\")\n",
        "print(\"Total Testing Images\",total_test)\n",
        "print(\"--\")\n",
        "print(\"Total Images\",total_images)\n",
        "print(\"--\")"
      ]
    },
    {
      "cell_type": "code",
      "source": [],
      "metadata": {
        "id": "yJHtb-W9E-yt"
      },
      "execution_count": null,
      "outputs": []
    },
    {
      "cell_type": "code",
      "execution_count": null,
      "metadata": {
        "id": "hR_kRga2AkTr"
      },
      "outputs": [],
      "source": [
        "from tensorflow.keras.preprocessing.image import ImageDataGenerator\n",
        "\n",
        "# Define paths to train and test directories\n",
        "train_datagen = ImageDataGenerator(rescale=1./255)\n",
        "test_datagen = ImageDataGenerator(rescale=1./255)  # Apply rescaling to test data too\n",
        "\n",
        "# Load images from train and test directories with data augmentation for training\n",
        "train_generator = train_datagen.flow_from_directory(\n",
        "        '/content/unzipp_d/dogeye/train',\n",
        "        target_size=(224, 224),  # Adjust image size as needed by your model\n",
        "        batch_size=32,\n",
        "        class_mode='categorical'  # Adjust based on your classification problem\n",
        ")\n",
        "\n",
        "# Load images from test directories (no augmentation for evaluation)\n",
        "test_generator = test_datagen.flow_from_directory(\n",
        "        '/content/unzipp_d/dogeye/test',\n",
        "        target_size=(224, 224),\n",
        "        batch_size=32,\n",
        "        class_mode='categorical'\n",
        ")\n",
        "\n",
        "validation_generator = test_datagen.flow_from_directory(\n",
        "        '/content/unzipp_d/dogeye/valid',\n",
        "        target_size=(224, 224),\n",
        "        batch_size=32,\n",
        "        class_mode='categorical'\n",
        ")"
      ]
    },
    {
      "cell_type": "code",
      "execution_count": null,
      "metadata": {
        "id": "_tYsdsbAAnMt"
      },
      "outputs": [],
      "source": [
        "from tensorflow.keras.applications import ResNet50\n",
        "# Load ResNet50, excluding the top (classification) layer\n",
        "resnet = ResNet50(weights='imagenet', include_top=False)\n",
        "\n",
        "# Freeze pre-trained layers to prevent retraining them\n",
        "for layer in resnet.layers:\n",
        "  layer.trainable = False"
      ]
    },
    {
      "cell_type": "code",
      "execution_count": null,
      "metadata": {
        "id": "XDwB9p_UApKA"
      },
      "outputs": [],
      "source": [
        "\n",
        "from tensorflow.keras.applications import ResNet50\n",
        "from tensorflow.keras.layers import Dense, GlobalAveragePooling2D\n",
        "from tensorflow.keras.models import Model\n",
        "from tensorflow.keras.optimizers import Adam\n",
        "from tensorflow.keras.preprocessing.image import ImageDataGenerator\n",
        "# Add GlobalAveragePooling2D to reduce spatial dimensions of the output\n",
        "x = resnet.output\n",
        "x = GlobalAveragePooling2D()(x)\n",
        "\n",
        "# Add a Dense layer with number of neurons equal to your number of classes\n",
        "x = Dense(6, activation='softmax')(x)  ##Chnage back to 6\n",
        "\n",
        "# Create the final model\n",
        "model = Model(inputs=resnet.input, outputs=x)"
      ]
    },
    {
      "cell_type": "code",
      "execution_count": null,
      "metadata": {
        "id": "d7TJfnJVAsDi"
      },
      "outputs": [],
      "source": [
        "model.compile(optimizer=Adam(learning_rate=0.001),\n",
        "              loss='categorical_crossentropy',\n",
        "              metrics=['accuracy'])"
      ]
    },
    {
      "cell_type": "code",
      "source": [
        "model.summary()"
      ],
      "metadata": {
        "id": "vAd5foNbgca6"
      },
      "execution_count": null,
      "outputs": []
    },
    {
      "cell_type": "code",
      "source": [
        "early_stopping = tf.keras.callbacks.EarlyStopping(monitor='val_loss', patience=3, restore_best_weights=True)\n",
        "\n",
        "history = model.fit(\n",
        "    train_generator,\n",
        "    steps_per_epoch=train_generator.samples // train_generator.batch_size,\n",
        "    epochs=50,\n",
        "    validation_data=validation_generator,\n",
        "    validation_steps=validation_generator.samples // validation_generator.batch_size,\n",
        "    callbacks=[early_stopping]\n",
        ")\n"
      ],
      "metadata": {
        "id": "PK9A7v3C8HYe"
      },
      "execution_count": null,
      "outputs": []
    },
    {
      "cell_type": "code",
      "execution_count": null,
      "metadata": {
        "id": "wHZRUGNIAtk-"
      },
      "outputs": [],
      "source": [
        "# model.fit(train_generator,\n",
        "#           epochs=5,\n",
        "#           validation_data=validation_generator)"
      ]
    },
    {
      "cell_type": "code",
      "execution_count": null,
      "metadata": {
        "id": "UnoLIfDpAxSI"
      },
      "outputs": [],
      "source": [
        "model.evaluate(test_generator)"
      ]
    },
    {
      "cell_type": "code",
      "execution_count": null,
      "metadata": {
        "id": "zOsIGQtvAy3X"
      },
      "outputs": [],
      "source": [
        "\n",
        "import numpy as np\n",
        "y_pred = model.predict(test_generator)\n",
        "y_pred = np.argmax(y_pred, axis=1)\n",
        "y_true = test_generator.classes\n",
        "print(classification_report(y_true, y_pred))\n"
      ]
    },
    {
      "cell_type": "code",
      "execution_count": null,
      "metadata": {
        "id": "dqhxiaqEA0-9"
      },
      "outputs": [],
      "source": [
        "import sklearn.metrics as metrics"
      ]
    },
    {
      "cell_type": "code",
      "execution_count": null,
      "metadata": {
        "id": "p8qEVXFvA2cK"
      },
      "outputs": [],
      "source": [
        "\n",
        "confusion_matrix = metrics.confusion_matrix(y_true, y_pred)\n",
        "print(confusion_matrix)"
      ]
    },
    {
      "cell_type": "code",
      "execution_count": null,
      "metadata": {
        "id": "O6i2orO2A3Ag"
      },
      "outputs": [],
      "source": [
        "end = timer()\n",
        "print(end - start)"
      ]
    }
  ],
  "metadata": {
    "colab": {
      "provenance": [],
      "gpuType": "T4",
      "include_colab_link": true
    },
    "kernelspec": {
      "display_name": "Python 3",
      "name": "python3"
    },
    "language_info": {
      "name": "python"
    },
    "accelerator": "GPU"
  },
  "nbformat": 4,
  "nbformat_minor": 0
}