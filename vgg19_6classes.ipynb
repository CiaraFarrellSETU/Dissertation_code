{
  "nbformat": 4,
  "nbformat_minor": 0,
  "metadata": {
    "colab": {
      "provenance": [],
      "authorship_tag": "ABX9TyOuIv/VVJ3En8m6fvfD39fz",
      "include_colab_link": true
    },
    "kernelspec": {
      "name": "python3",
      "display_name": "Python 3"
    },
    "language_info": {
      "name": "python"
    }
  },
  "cells": [
    {
      "cell_type": "markdown",
      "metadata": {
        "id": "view-in-github",
        "colab_type": "text"
      },
      "source": [
        "<a href=\"https://colab.research.google.com/github/CiaraFarrellSETU/Dissertation_code/blob/main/vgg19_6classes.ipynb\" target=\"_parent\"><img src=\"https://colab.research.google.com/assets/colab-badge.svg\" alt=\"Open In Colab\"/></a>"
      ]
    },
    {
      "cell_type": "code",
      "execution_count": null,
      "metadata": {
        "id": "foic0WD6Sr-C"
      },
      "outputs": [],
      "source": [
        "from timeit import default_timer as timer\n",
        "\n",
        "start = timer()"
      ]
    },
    {
      "cell_type": "code",
      "source": [
        "import seaborn as sns\n",
        "import matplotlib.pyplot as plt\n",
        "import matplotlib.gridspec as gridspec\n",
        "%matplotlib inline\n",
        "\n",
        "import sys\n",
        "import warnings\n",
        "if not sys.warnoptions:\n",
        "    warnings.simplefilter(\"ignore\")\n",
        "\n",
        "from random import randint\n",
        "from sklearn.utils import shuffle\n",
        "from sklearn.model_selection import train_test_split\n",
        "from sklearn.metrics import classification_report, confusion_matrix\n",
        "\n",
        "from tensorflow.keras import layers\n",
        "from tensorflow.keras import Model, Sequential\n",
        "from tensorflow.keras.utils import plot_model\n",
        "from tensorflow.keras.callbacks import ReduceLROnPlateau\n",
        "from tensorflow.keras.preprocessing.image import ImageDataGenerator"
      ],
      "metadata": {
        "id": "CKcExhi5SupG"
      },
      "execution_count": null,
      "outputs": []
    },
    {
      "cell_type": "code",
      "source": [
        "BATCH_SIZE = 32\n",
        "TEST_BATCH_SIZE=32\n",
        "TEST_STEPS=1\n",
        "IMAGE_SIZE = (224, 224)"
      ],
      "metadata": {
        "id": "Q2yl239HSzCo"
      },
      "execution_count": null,
      "outputs": []
    },
    {
      "cell_type": "code",
      "source": [
        "from google.colab import drive\n",
        "drive.mount('/content/gdrive')"
      ],
      "metadata": {
        "id": "_o9qRbzBS0d0"
      },
      "execution_count": null,
      "outputs": []
    },
    {
      "cell_type": "code",
      "source": [
        "import zipfile\n",
        "\n",
        "with zipfile.ZipFile('/content/gdrive/MyDrive/dogeye.zip', 'r') as zip_ref:\n",
        "    zip_ref.extractall('/content/unzipp_d')"
      ],
      "metadata": {
        "id": "W_kAMu7aS2Qd"
      },
      "execution_count": null,
      "outputs": []
    },
    {
      "cell_type": "code",
      "source": [
        "base_dir = '/content/unzipp_d/dogeye'\n",
        "\n",
        "train_dir = '/content/unzipp_d/dogeye/train'\n",
        "cat_train_dir = '/content/unzipp_d/dogeye/train/cataract'\n",
        "healthy_train_dir = '/content/unzipp_d/dogeye/train/healthy'\n",
        "mas_train_dir = '/content/unzipp_d/dogeye/train/mas'\n",
        "conj_train_dir = '/content/unzipp_d/dogeye/train/conj'\n",
        "ulcer_train_dir = '/content/unzipp_d/dogeye/train/ulcer'\n",
        "nuc_train_dir = '/content/unzipp_d/dogeye/train/nuc'\n",
        "\n",
        "test_dir = '/content/unzipp_d/dogeye/test'\n",
        "cat_test_dir = '/content/unzipp_d/dogeye/test/cataract'\n",
        "healthy_test_dir = '/content/unzipp_d/dogeye/test/healthy'\n",
        "mas_test_dir = '/content/unzipp_d/dogeye/test/mas'\n",
        "conj_test_dir = '/content/unzipp_d/dogeye/test/conj'\n",
        "ulcer_test_dir = '/content/unzipp_d/dogeye/test/ulcer'\n",
        "nuc_test_dir = '/content/unzipp_d/dogeye/test/nuc'\n",
        "\n",
        "val_dir = '/content/unzipp_d/dogeye/valid'\n",
        "cat_val_dir = '/content/unzipp_d/dogeye/valid/cataract'\n",
        "healthy_val_dir = '/content/unzipp_d/dogeye/valid/healthy'\n",
        "mas_val_dir = '/content/unzipp_d/dogeye/valid/mas'\n",
        "conj_val_dir = '/content/unzipp_d/dogeye/valid/conj'\n",
        "ulcer_val_dir = '/content/unzipp_d/dogeye/valid/ucler'\n",
        "nuc_val_dir = '/content/unzipp_d/dogeye/valid/nuc'"
      ],
      "metadata": {
        "id": "aGk3MxrqS8Pe"
      },
      "execution_count": null,
      "outputs": []
    },
    {
      "cell_type": "code",
      "source": [
        "import os\n",
        "#train\n",
        "num_cat_train = len(os.listdir(cat_train_dir))\n",
        "num_healthy_train = len(os.listdir(healthy_train_dir))\n",
        "\n",
        "num_mas_train = len(os.listdir(mas_train_dir))\n",
        "num_conj_train = len(os.listdir(conj_train_dir))\n",
        "num_ulcer_train = len(os.listdir(ulcer_train_dir))\n",
        "num_nuc_train = len(os.listdir(nuc_train_dir))\n",
        "\n",
        "#test\n",
        "num_cat_test = len(os.listdir(cat_test_dir))\n",
        "num_healthy_test = len(os.listdir(healthy_test_dir))\n",
        "\n",
        "num_mas_test = len(os.listdir(mas_test_dir))\n",
        "num_conj_test = len(os.listdir(conj_test_dir))\n",
        "num_ulcer_test = len(os.listdir(ulcer_test_dir))\n",
        "num_nuc_test = len(os.listdir(nuc_test_dir))\n",
        "\n",
        "#val\n",
        "num_cat_val = len(os.listdir(cat_val_dir))\n",
        "num_healthy_val = len(os.listdir(healthy_val_dir))\n",
        "\n",
        "num_mas_val = len(os.listdir(mas_val_dir))\n",
        "num_conj_val = len(os.listdir(conj_val_dir))\n",
        "num_ulcer_val = len(os.listdir(ulcer_val_dir))\n",
        "num_nuc_val = len(os.listdir(nuc_val_dir))"
      ],
      "metadata": {
        "id": "ts6J6hHlTcRA"
      },
      "execution_count": null,
      "outputs": []
    },
    {
      "cell_type": "code",
      "source": [
        "print(\"--\")\n",
        "print(\"Total Training cat Images\",num_cat_train)\n",
        "print(\"Total Training conj Images\",num_conj_train)\n",
        "\n",
        "print(\"Total Training healthy Images\",num_healthy_train)\n",
        "print(\"Total Training mas Images\",num_mas_train)\n",
        "print(\"Total Training nuc Images\",num_nuc_train)\n",
        "print(\"Total Training ulcer Images\",num_ulcer_train)\n",
        "print(\"--\")\n",
        "print(\"Total test cat Images\",num_cat_test)\n",
        "print(\"Total test healthy Images\",num_healthy_test)\n",
        "\n",
        "print(\"Total test mas Images\",num_mas_test)\n",
        "print(\"Total Training conj Images\",num_conj_test)\n",
        "print(\"Total Training ulcer Images\",num_ulcer_test)\n",
        "print(\"Total Training nuc Images\",num_nuc_test)\n",
        "print(\"--\")\n",
        "print(\"Total validation cat Images\",num_cat_val)\n",
        "print(\"Total validation healthy Images\",num_healthy_val)\n",
        "\n",
        "print(\"Total validation mas Images\",num_mas_val)\n",
        "print(\"Total Training conj Images\",num_conj_val)\n",
        "print(\"Total Training ulcer Images\",num_ulcer_val)\n",
        "print(\"Total Training nuc Images\",num_nuc_val)\n",
        "print(\"--\")"
      ],
      "metadata": {
        "id": "3D0L0eeZTe65"
      },
      "execution_count": null,
      "outputs": []
    },
    {
      "cell_type": "code",
      "source": [
        "total_train = num_cat_train+num_healthy_train+num_mas_train+num_conj_train+num_ulcer_train+num_nuc_train\n",
        "total_validation = num_cat_val+num_healthy_val+num_mas_val+num_conj_val+num_ulcer_val+num_nuc_val\n",
        "total_test = num_cat_test+num_healthy_test+num_mas_test+num_conj_test+num_ulcer_test+num_nuc_test\n",
        "\n",
        "total_images = total_train + total_validation + total_test\n",
        "\n",
        "print(\"--\")\n",
        "print(\"Total Training Images\",total_train)\n",
        "print(\"--\")\n",
        "print(\"Total Validation Images\",total_validation)\n",
        "print(\"--\")\n",
        "print(\"Total Testing Images\",total_test)\n",
        "print(\"--\")\n",
        "print(\"Total Images\",total_images)\n",
        "print(\"--\")"
      ],
      "metadata": {
        "id": "G_L5XJ7KThOp"
      },
      "execution_count": null,
      "outputs": []
    },
    {
      "cell_type": "code",
      "source": [
        "print ( 'test batch size: ' ,TEST_BATCH_SIZE, '  test steps: ', TEST_STEPS)"
      ],
      "metadata": {
        "id": "AJgQd3AjTjKJ"
      },
      "execution_count": null,
      "outputs": []
    },
    {
      "cell_type": "code",
      "source": [
        "import numpy as np\n",
        "\n",
        "def scalar(img):\n",
        "    return img  # EfficientNet expects pixels in range 0 to 255 so no scaling is required\n",
        "trgen=ImageDataGenerator(preprocessing_function=scalar, horizontal_flip=True)\n",
        "tvgen=ImageDataGenerator(preprocessing_function=scalar)\n",
        "train_generator=trgen.flow_from_directory( directory=train_dir , target_size=(224,224), class_mode='categorical',\n",
        "                                    color_mode='rgb', shuffle=True, batch_size=BATCH_SIZE)\n",
        "test_generator=tvgen.flow_from_directory( directory=test_dir, target_size=(224,224), class_mode='categorical',\n",
        "                                    color_mode='rgb', shuffle=False, batch_size=TEST_BATCH_SIZE)\n",
        "\n",
        "valid_generator=tvgen.flow_from_directory( directory=val_dir, target_size=(224,224), class_mode='categorical',\n",
        "                                    color_mode='rgb', shuffle=True, batch_size=BATCH_SIZE)\n",
        "classes=list(train_generator.class_indices.keys())\n",
        "class_count=len(classes)\n",
        "train_steps=int(np.ceil(len(train_generator.labels)/BATCH_SIZE))"
      ],
      "metadata": {
        "id": "he9USXdXTk8B"
      },
      "execution_count": null,
      "outputs": []
    },
    {
      "cell_type": "code",
      "source": [
        "lrr= ReduceLROnPlateau(monitor='val_acc', factor=.01, patience=3, min_lr=1e-5)"
      ],
      "metadata": {
        "id": "cIXl9rgib10-"
      },
      "execution_count": null,
      "outputs": []
    },
    {
      "cell_type": "code",
      "source": [
        "from keras.applications.vgg19 import VGG19\n",
        "base_model = VGG19(include_top = False, weights = 'imagenet', input_shape = (224,224,3), classes = 6)"
      ],
      "metadata": {
        "id": "i_DkjONDTqOj"
      },
      "execution_count": null,
      "outputs": []
    },
    {
      "cell_type": "code",
      "source": [
        "from keras.layers import Flatten,Dense,BatchNormalization,Activation,Dropout\n",
        "\n",
        "model= Sequential()\n",
        "model.add(base_model)\n",
        "model.add(Flatten())"
      ],
      "metadata": {
        "id": "GZMz4ZKpTrqm"
      },
      "execution_count": null,
      "outputs": []
    },
    {
      "cell_type": "code",
      "source": [
        "model.add(Dense(1024,activation=('relu'),input_dim=512))\n",
        "model.add(Dense(512,activation=('relu')))\n",
        "model.add(Dense(256,activation=('relu')))\n",
        "model.add(Dropout(.3))\n",
        "model.add(Dense(128,activation=('relu')))\n",
        "model.add(Dense(6,activation=('softmax'))) # 7 for seven classes\n",
        "\n",
        "#Checking the final model summary\n",
        "model.summary()"
      ],
      "metadata": {
        "id": "Pd67le-HTtW-"
      },
      "execution_count": null,
      "outputs": []
    },
    {
      "cell_type": "code",
      "source": [
        "from tensorflow.keras.optimizers import SGD\n",
        "from tensorflow.keras.optimizers import Adam"
      ],
      "metadata": {
        "id": "pM178kL8bR7J"
      },
      "execution_count": null,
      "outputs": []
    },
    {
      "cell_type": "code",
      "source": [
        "from tensorflow.keras.optimizers import SGD,Adam\n",
        "epochs=5\n",
        "learn_rate=.001\n",
        "sgd=SGD(learning_rate=learn_rate,momentum=.9,nesterov=False)\n",
        "adam = Adam(learning_rate=learn_rate, beta_1=0.9, beta_2=0.999, epsilon=None, amsgrad=False)\n",
        "model.compile(optimizer=sgd,loss='categorical_crossentropy',metrics=['accuracy'])"
      ],
      "metadata": {
        "id": "mHAzsUJhTvSZ"
      },
      "execution_count": null,
      "outputs": []
    },
    {
      "cell_type": "code",
      "source": [
        "# from tensorflow.keras.callbacks import EarlyStopping\n",
        "\n",
        "# early_stopping = EarlyStopping(monitor='val_loss', patience=3, restore_best_weights=True)\n",
        "\n",
        "# model.fit(train_generator, epochs=epochs, validation_data=valid_generator, verbose=1, callbacks=[early_stopping])\n"
      ],
      "metadata": {
        "id": "kpLXNGGeWYbK"
      },
      "execution_count": null,
      "outputs": []
    },
    {
      "cell_type": "code",
      "source": [
        "model.fit(train_generator,epochs = epochs, validation_data = valid_generator, verbose = 1)"
      ],
      "metadata": {
        "id": "HR_wyvLoTxgv"
      },
      "execution_count": null,
      "outputs": []
    },
    {
      "cell_type": "code",
      "source": [
        "model.evaluate(test_generator)"
      ],
      "metadata": {
        "id": "oZtoE5ipTz86"
      },
      "execution_count": null,
      "outputs": []
    },
    {
      "cell_type": "code",
      "source": [
        "import numpy as np\n",
        "import sklearn.metrics as metrics\n",
        "\n",
        "y_pred = model.predict(test_generator)\n",
        "\n",
        "y_pred = np.argmax(y_pred, axis=1)\n",
        "\n",
        "\n",
        "y_true = test_generator.classes\n",
        "\n",
        "report = metrics.classification_report(y_true, y_pred, target_names=classes)\n",
        "print(report)\n"
      ],
      "metadata": {
        "id": "kCPzE6aMT1X6"
      },
      "execution_count": null,
      "outputs": []
    },
    {
      "cell_type": "code",
      "source": [
        "confusion_matrix = metrics.confusion_matrix(y_true, y_pred)\n",
        "print(confusion_matrix)"
      ],
      "metadata": {
        "id": "6EbF-X29T2tU"
      },
      "execution_count": null,
      "outputs": []
    },
    {
      "cell_type": "code",
      "source": [
        "end = timer()\n",
        "print(end - start)"
      ],
      "metadata": {
        "id": "NRJ_wlnzT5n7"
      },
      "execution_count": null,
      "outputs": []
    }
  ]
}