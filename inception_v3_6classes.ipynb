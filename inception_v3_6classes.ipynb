{
  "nbformat": 4,
  "nbformat_minor": 0,
  "metadata": {
    "colab": {
      "provenance": [],
      "gpuType": "T4",
      "authorship_tag": "ABX9TyP4+XrLs8kKZ88RYAIOdDSZ",
      "include_colab_link": true
    },
    "kernelspec": {
      "name": "python3",
      "display_name": "Python 3"
    },
    "language_info": {
      "name": "python"
    },
    "accelerator": "GPU"
  },
  "cells": [
    {
      "cell_type": "markdown",
      "metadata": {
        "id": "view-in-github",
        "colab_type": "text"
      },
      "source": [
        "<a href=\"https://colab.research.google.com/github/CiaraFarrellSETU/Dissertation_code/blob/main/inception_v3_6classes.ipynb\" target=\"_parent\"><img src=\"https://colab.research.google.com/assets/colab-badge.svg\" alt=\"Open In Colab\"/></a>"
      ]
    },
    {
      "cell_type": "code",
      "source": [
        "from timeit import default_timer as timer\n",
        "\n",
        "start = timer()"
      ],
      "metadata": {
        "id": "TIDauG02yGGk"
      },
      "execution_count": null,
      "outputs": []
    },
    {
      "cell_type": "code",
      "execution_count": null,
      "metadata": {
        "id": "WAep3Idpxefz"
      },
      "outputs": [],
      "source": [
        "# %tensorflow_version 2.x\n",
        "import os\n",
        "import numpy as np\n",
        "import pandas as pd\n",
        "import matplotlib.pyplot as plt\n",
        "import matplotlib.image as mpimg\n",
        "import seaborn as sns\n",
        "\n",
        "import tensorflow as tf\n",
        "from tensorflow.keras import backend as K\n",
        "from tensorflow.keras import backend, models, layers, optimizers, regularizers, metrics\n",
        "from tensorflow.keras.utils import to_categorical\n",
        "from tensorflow.keras.layers import BatchNormalization\n",
        "from tensorflow.keras.callbacks import EarlyStopping\n",
        "from tensorflow.keras.preprocessing.image import ImageDataGenerator\n",
        "from tensorflow.keras.models import Model\n",
        "from tensorflow.keras.applications import InceptionV3\n",
        "from tensorflow.keras.utils import plot_model\n",
        "\n",
        "\n",
        "from sklearn.model_selection import train_test_split\n",
        "from sklearn.metrics import classification_report, confusion_matrix\n",
        "\n",
        "from PIL import Image\n",
        "\n",
        "import shutil\n",
        "\n",
        "np.random.seed(0)\n",
        "tf.random.set_seed(0)\n",
        "\n",
        "from IPython.core.display import display, HTML\n",
        "display(HTML(\"<style>.container { width:95% !important; }</style>\"))"
      ]
    },
    {
      "cell_type": "code",
      "source": [
        "from google.colab import drive\n",
        "drive.mount('/content/gdrive')"
      ],
      "metadata": {
        "id": "zvMAPBWCxzyF"
      },
      "execution_count": null,
      "outputs": []
    },
    {
      "cell_type": "code",
      "source": [
        "import zipfile\n",
        "\n",
        "with zipfile.ZipFile('/content/gdrive/MyDrive/dogeye.zip', 'r') as zip_ref:\n",
        "    zip_ref.extractall('/content/unzipp_d')"
      ],
      "metadata": {
        "id": "p6dLMcowx2Ju"
      },
      "execution_count": null,
      "outputs": []
    },
    {
      "cell_type": "code",
      "source": [
        "base_dir = '/content/unzipp_d/dogeye'\n",
        "\n",
        "train_dir = '/content/unzipp_d/dogeye/train'\n",
        "cat_train_dir = '/content/unzipp_d/dogeye/train/cataract'\n",
        "healthy_train_dir = '/content/unzipp_d/dogeye/train/healthy'\n",
        "mas_train_dir = '/content/unzipp_d/dogeye/train/mas'\n",
        "conj_train_dir = '/content/unzipp_d/dogeye/train/conj'\n",
        "ulcer_train_dir = '/content/unzipp_d/dogeye/train/ulcer'\n",
        "nuc_train_dir = '/content/unzipp_d/dogeye/train/nuc'\n",
        "\n",
        "test_dir = '/content/unzipp_d/dogeye/test'\n",
        "cat_test_dir = '/content/unzipp_d/dogeye/test/cataract'\n",
        "healthy_test_dir = '/content/unzipp_d/dogeye/test/healthy'\n",
        "mas_test_dir = '/content/unzipp_d/dogeye/test/mas'\n",
        "conj_test_dir = '/content/unzipp_d/dogeye/test/conj'\n",
        "ulcer_test_dir = '/content/unzipp_d/dogeye/test/ulcer'\n",
        "nuc_test_dir = '/content/unzipp_d/dogeye/test/nuc'\n",
        "\n",
        "val_dir = '/content/unzipp_d/dogeye/valid'\n",
        "cat_val_dir = '/content/unzipp_d/dogeye/valid/cataract'\n",
        "healthy_val_dir = '/content/unzipp_d/dogeye/valid/healthy'\n",
        "mas_val_dir = '/content/unzipp_d/dogeye/valid/mas'\n",
        "conj_val_dir = '/content/unzipp_d/dogeye/valid/conj'\n",
        "ulcer_val_dir = '/content/unzipp_d/dogeye/valid/ucler'\n",
        "nuc_val_dir = '/content/unzipp_d/dogeye/valid/nuc'"
      ],
      "metadata": {
        "id": "YjWSkWIJyKdL"
      },
      "execution_count": null,
      "outputs": []
    },
    {
      "cell_type": "code",
      "source": [
        "import os\n",
        "#train\n",
        "num_cat_train = len(os.listdir(cat_train_dir))\n",
        "num_healthy_train = len(os.listdir(healthy_train_dir))\n",
        "\n",
        "num_mas_train = len(os.listdir(mas_train_dir))\n",
        "num_conj_train = len(os.listdir(conj_train_dir))\n",
        "num_ulcer_train = len(os.listdir(ulcer_train_dir))\n",
        "num_nuc_train = len(os.listdir(nuc_train_dir))\n",
        "\n",
        "#test\n",
        "num_cat_test = len(os.listdir(cat_test_dir))\n",
        "num_healthy_test = len(os.listdir(healthy_test_dir))\n",
        "\n",
        "num_mas_test = len(os.listdir(mas_test_dir))\n",
        "num_conj_test = len(os.listdir(conj_test_dir))\n",
        "num_ulcer_test = len(os.listdir(ulcer_test_dir))\n",
        "num_nuc_test = len(os.listdir(nuc_test_dir))\n",
        "\n",
        "#val\n",
        "num_cat_val = len(os.listdir(cat_val_dir))\n",
        "num_healthy_val = len(os.listdir(healthy_val_dir))\n",
        "\n",
        "num_mas_val = len(os.listdir(mas_val_dir))\n",
        "num_conj_val = len(os.listdir(conj_val_dir))\n",
        "num_ulcer_val = len(os.listdir(ulcer_val_dir))\n",
        "num_nuc_val = len(os.listdir(nuc_val_dir))"
      ],
      "metadata": {
        "id": "2wPjAM1pyNol"
      },
      "execution_count": null,
      "outputs": []
    },
    {
      "cell_type": "code",
      "source": [
        "print(\"--\")\n",
        "print(\"Total Training cat Images\",num_cat_train)\n",
        "print(\"Total Training conj Images\",num_conj_train)\n",
        "\n",
        "print(\"Total Training healthy Images\",num_healthy_train)\n",
        "print(\"Total Training mas Images\",num_mas_train)\n",
        "print(\"Total Training nuc Images\",num_nuc_train)\n",
        "print(\"Total Training ulcer Images\",num_ulcer_train)\n",
        "print(\"--\")\n",
        "print(\"Total test cat Images\",num_cat_test)\n",
        "print(\"Total test healthy Images\",num_healthy_test)\n",
        "\n",
        "print(\"Total test mas Images\",num_mas_test)\n",
        "print(\"Total Training conj Images\",num_conj_test)\n",
        "print(\"Total Training ulcer Images\",num_ulcer_test)\n",
        "print(\"Total Training nuc Images\",num_nuc_test)\n",
        "print(\"--\")\n",
        "print(\"Total validation cat Images\",num_cat_val)\n",
        "print(\"Total validation healthy Images\",num_healthy_val)\n",
        "\n",
        "print(\"Total validation mas Images\",num_mas_val)\n",
        "print(\"Total Training conj Images\",num_conj_val)\n",
        "print(\"Total Training ulcer Images\",num_ulcer_val)\n",
        "print(\"Total Training nuc Images\",num_nuc_val)\n",
        "print(\"--\")"
      ],
      "metadata": {
        "id": "EO12w3xRyQIY"
      },
      "execution_count": null,
      "outputs": []
    },
    {
      "cell_type": "code",
      "source": [
        "total_train = num_cat_train+num_mas_train+num_conj_train+num_ulcer_train+num_nuc_train+num_healthy_train\n",
        "total_validation = num_cat_val+num_mas_val+num_conj_val+num_ulcer_val+num_nuc_val+num_healthy_val\n",
        "total_test = num_cat_test+num_mas_test+num_conj_test+num_ulcer_test+num_nuc_test+num_healthy_test\n",
        "\n",
        "total_images = total_train + total_validation + total_test\n",
        "\n",
        "print(\"--\")\n",
        "print(\"Total Training Images\",total_train)\n",
        "print(\"--\")\n",
        "print(\"Total Validation Images\",total_validation)\n",
        "print(\"--\")\n",
        "print(\"Total Testing Images\",total_test)\n",
        "print(\"--\")\n",
        "print(\"Total Images\",total_images)\n",
        "print(\"--\")"
      ],
      "metadata": {
        "id": "gVTzBdnGySXQ"
      },
      "execution_count": null,
      "outputs": []
    },
    {
      "cell_type": "code",
      "source": [
        "img_size = [250, 250]\n",
        "epochs = 50"
      ],
      "metadata": {
        "id": "GK1uRxkwye0g"
      },
      "execution_count": null,
      "outputs": []
    },
    {
      "cell_type": "code",
      "source": [
        "base_dir = '/content/unzipp_d/dogeye'\n",
        "\n",
        "training = (base_dir + '/train')\n",
        "test = (base_dir + '/test')"
      ],
      "metadata": {
        "id": "jsCt-3z9y0Sr"
      },
      "execution_count": null,
      "outputs": []
    },
    {
      "cell_type": "code",
      "source": [
        "train_datagen = ImageDataGenerator(\n",
        "    rescale=1./255,\n",
        "    validation_split=0.2\n",
        ")\n",
        "\n",
        "test_datagen = ImageDataGenerator(\n",
        "    rescale=1./255\n",
        ")\n",
        "\n",
        "train_generator = train_datagen.flow_from_directory(\n",
        "    training,\n",
        "    target_size=(250, 250),\n",
        "    batch_size=32,\n",
        "    class_mode='categorical',\n",
        "    subset='training',\n",
        "    color_mode='rgb'\n",
        ")\n",
        "\n",
        "validation_generator = train_datagen.flow_from_directory(\n",
        "    training,\n",
        "    target_size=(250, 250),\n",
        "    batch_size=32,\n",
        "    class_mode='categorical',\n",
        "    subset='validation',\n",
        "    color_mode='rgb'\n",
        ")\n",
        "\n",
        "test_generator = train_datagen.flow_from_directory(\n",
        "    test,\n",
        "    target_size=(250, 250),\n",
        "    batch_size=32,\n",
        "    class_mode='categorical',\n",
        "    color_mode='rgb'\n",
        ")\n",
        "\n",
        "class_names = ['cat', 'conj','healthy', 'mas','nuc','ulcer'] # put in order\n",
        "train_generator.class_names = class_names\n",
        "validation_generator.class_names = class_names\n",
        "test_generator.class_names = class_names\n",
        "\n",
        "steps_per_epoch = train_generator.n // train_generator.batch_size\n",
        "print('steps per epoch: ',steps_per_epoch)"
      ],
      "metadata": {
        "id": "fRAoe7iuyfWM"
      },
      "execution_count": null,
      "outputs": []
    },
    {
      "cell_type": "code",
      "source": [
        "# for images, labels in train_generator:\n",
        "#   plt.figure(figsize=(10,10))\n",
        "#   for i in range(9):\n",
        "#     plt.subplot(330 + 1 + i)\n",
        "#     plt.imshow(images[i])\n",
        "#     class_name = train_generator.class_names[np.where(labels[i] == 1)[0][0]]\n",
        "#     plt.title(class_name)\n",
        "#     plt.axis('off')\n",
        "#   plt.show()\n",
        "#   break"
      ],
      "metadata": {
        "id": "556Y6ZklzF1j"
      },
      "execution_count": null,
      "outputs": []
    },
    {
      "cell_type": "code",
      "source": [
        "backend.clear_session()\n",
        "inception_base = InceptionV3(\n",
        "    weights = 'imagenet',\n",
        "    include_top = False,\n",
        "    input_shape = (*img_size, 3)\n",
        "    )\n",
        "\n",
        "inception_base.trainable = False\n",
        "\n",
        "visible = layers.Input(shape=(250,250,3), name='input')\n",
        "x = inception_base(visible)\n",
        "\n",
        "x = layers.Flatten()(x)\n",
        "x = layers.Dense(512, activation = 'relu')(x)\n",
        "\n",
        "output = layers.Dense(6, activation='softmax', name='output')(x)\n",
        "\n",
        "model = Model(inputs=visible, outputs=output)\n",
        "\n",
        "model.compile(optimizer = 'adam',\n",
        "               loss = 'categorical_crossentropy',\n",
        "               metrics = [metrics.AUC(name='auc')]\n",
        "             )\n",
        "\n",
        "print(model.summary())\n",
        "\n",
        "history = model.fit(\n",
        "    train_generator,\n",
        "    steps_per_epoch=steps_per_epoch,\n",
        "    epochs=epochs,\n",
        "    validation_data=validation_generator,\n",
        "    verbose = 1,\n",
        "    callbacks=[\n",
        "               EarlyStopping(\n",
        "                   monitor='val_auc',\n",
        "                   patience=15,\n",
        "                   restore_best_weights = True\n",
        "                   )\n",
        "               ]\n",
        "            )\n"
      ],
      "metadata": {
        "id": "73kb4lrVzKsM"
      },
      "execution_count": null,
      "outputs": []
    },
    {
      "cell_type": "code",
      "source": [
        "\n",
        "test_loss, test_accuracy = model.evaluate(test_generator)\n",
        "print(\"Test accuracy:\", test_accuracy)\n",
        "print(\"Test loss:\", test_loss)\n"
      ],
      "metadata": {
        "id": "vqGUacrFzijV"
      },
      "execution_count": null,
      "outputs": []
    },
    {
      "cell_type": "code",
      "source": [
        "import numpy as np\n",
        "y_true = test_generator.classes\n",
        "y_pred_prob = model.predict(test_generator)\n",
        "y_pred = np.argmax(y_pred_prob, axis=1)\n",
        "\n",
        "report = classification_report(y_true, y_pred, target_names=class_names)\n",
        "print(report)\n"
      ],
      "metadata": {
        "id": "Mu2K53NF4eOr"
      },
      "execution_count": null,
      "outputs": []
    },
    {
      "cell_type": "code",
      "source": [
        "import matplotlib.pyplot as plt\n",
        "cm = confusion_matrix(y_true, y_pred)\n",
        "print(\"Confusion Matrix:\\n\")\n",
        "print(cm)"
      ],
      "metadata": {
        "id": "hlOQP4vH4kuh"
      },
      "execution_count": null,
      "outputs": []
    },
    {
      "cell_type": "code",
      "source": [
        "end = timer()\n",
        "print(end - start)"
      ],
      "metadata": {
        "id": "rAhIIdCA4njN"
      },
      "execution_count": null,
      "outputs": []
    }
  ]
}