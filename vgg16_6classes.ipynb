{
  "nbformat": 4,
  "nbformat_minor": 0,
  "metadata": {
    "colab": {
      "provenance": [],
      "include_colab_link": true
    },
    "kernelspec": {
      "name": "python3",
      "display_name": "Python 3"
    },
    "language_info": {
      "name": "python"
    }
  },
  "cells": [
    {
      "cell_type": "markdown",
      "metadata": {
        "id": "view-in-github",
        "colab_type": "text"
      },
      "source": [
        "<a href=\"https://colab.research.google.com/github/CiaraFarrellSETU/Dissertation_code/blob/main/vgg16_6classes.ipynb\" target=\"_parent\"><img src=\"https://colab.research.google.com/assets/colab-badge.svg\" alt=\"Open In Colab\"/></a>"
      ]
    },
    {
      "cell_type": "code",
      "source": [
        "from timeit import default_timer as timer\n",
        "\n",
        "start = timer()"
      ],
      "metadata": {
        "id": "IQlJHuXlFAl0"
      },
      "execution_count": null,
      "outputs": []
    },
    {
      "cell_type": "code",
      "execution_count": null,
      "metadata": {
        "id": "qzPUdHebLBeC"
      },
      "outputs": [],
      "source": [
        "import os\n",
        "import cv2\n",
        "from PIL import Image\n",
        "import tensorflow as tf\n",
        "from keras import backend as K\n",
        "from keras.models import load_model\n",
        "from keras.preprocessing.image import img_to_array\n",
        "from tensorflow.keras.optimizers import Adam, RMSprop\n",
        "from tensorflow.keras.callbacks import ReduceLROnPlateau\n",
        "from tensorflow.keras.preprocessing.image import ImageDataGenerator"
      ]
    },
    {
      "cell_type": "code",
      "source": [
        "from google.colab import drive\n",
        "drive.mount('/content/gdrive')"
      ],
      "metadata": {
        "id": "uKACTo04LJ3h"
      },
      "execution_count": null,
      "outputs": []
    },
    {
      "cell_type": "code",
      "source": [
        "import zipfile\n",
        "\n",
        "with zipfile.ZipFile('/content/gdrive/MyDrive/dogeye.zip', 'r') as zip_ref:\n",
        "    zip_ref.extractall('/content/unzipp_d')  # Replace with desired destination directory"
      ],
      "metadata": {
        "id": "sg5V44G8LNIa"
      },
      "execution_count": null,
      "outputs": []
    },
    {
      "cell_type": "code",
      "source": [
        "base_dir = '/content/unzipp_d/dogeye'\n",
        "\n",
        "train_dir = '/content/unzipp_d/dogeye/train'\n",
        "cat_train_dir = '/content/unzipp_d/dogeye/train/cataract'\n",
        "healthy_train_dir = '/content/unzipp_d/dogeye/train/healthy'\n",
        "mas_train_dir = '/content/unzipp_d/dogeye/train/mas'\n",
        "conj_train_dir = '/content/unzipp_d/dogeye/train/conj'\n",
        "ulcer_train_dir = '/content/unzipp_d/dogeye/train/ulcer'\n",
        "nuc_train_dir = '/content/unzipp_d/dogeye/train/nuc'\n",
        "\n",
        "test_dir = '/content/unzipp_d/dogeye/test'\n",
        "cat_test_dir = '/content/unzipp_d/dogeye/test/cataract'\n",
        "healthy_test_dir = '/content/unzipp_d/dogeye/test/healthy'\n",
        "mas_test_dir = '/content/unzipp_d/dogeye/test/mas'\n",
        "conj_test_dir = '/content/unzipp_d/dogeye/test/conj'\n",
        "ulcer_test_dir = '/content/unzipp_d/dogeye/test/ulcer'\n",
        "nuc_test_dir = '/content/unzipp_d/dogeye/test/nuc'\n",
        "\n",
        "val_dir = '/content/unzipp_d/dogeye/valid'\n",
        "cat_val_dir = '/content/unzipp_d/dogeye/valid/cataract'\n",
        "healthy_val_dir = '/content/unzipp_d/dogeye/valid/healthy'\n",
        "mas_val_dir = '/content/unzipp_d/dogeye/valid/mas'\n",
        "conj_val_dir = '/content/unzipp_d/dogeye/valid/conj'\n",
        "ulcer_val_dir = '/content/unzipp_d/dogeye/valid/ucler'\n",
        "nuc_val_dir = '/content/unzipp_d/dogeye/valid/nuc'"
      ],
      "metadata": {
        "id": "L5ZkWRifLSK7"
      },
      "execution_count": null,
      "outputs": []
    },
    {
      "cell_type": "code",
      "source": [
        "import os\n",
        "#train\n",
        "num_cat_train = len(os.listdir(cat_train_dir))\n",
        "num_healthy_train = len(os.listdir(healthy_train_dir))\n",
        "\n",
        "num_mas_train = len(os.listdir(mas_train_dir))\n",
        "num_conj_train = len(os.listdir(conj_train_dir))\n",
        "num_ulcer_train = len(os.listdir(ulcer_train_dir))\n",
        "num_nuc_train = len(os.listdir(nuc_train_dir))\n",
        "\n",
        "#test\n",
        "num_cat_test = len(os.listdir(cat_test_dir))\n",
        "num_healthy_test = len(os.listdir(healthy_test_dir))\n",
        "\n",
        "num_mas_test = len(os.listdir(mas_test_dir))\n",
        "num_conj_test = len(os.listdir(conj_test_dir))\n",
        "num_ulcer_test = len(os.listdir(ulcer_test_dir))\n",
        "num_nuc_test = len(os.listdir(nuc_test_dir))\n",
        "\n",
        "#val\n",
        "num_cat_val = len(os.listdir(cat_val_dir))\n",
        "num_healthy_val = len(os.listdir(healthy_val_dir))\n",
        "\n",
        "num_mas_val = len(os.listdir(mas_val_dir))\n",
        "num_conj_val = len(os.listdir(conj_val_dir))\n",
        "num_ulcer_val = len(os.listdir(ulcer_val_dir))\n",
        "num_nuc_val = len(os.listdir(nuc_val_dir))"
      ],
      "metadata": {
        "id": "DN3AYy0oLhZf"
      },
      "execution_count": null,
      "outputs": []
    },
    {
      "cell_type": "code",
      "source": [
        "print(\"--\")\n",
        "print(\"Total Training cat Images\",num_cat_train)\n",
        "print(\"Total Training conj Images\",num_conj_train)\n",
        "\n",
        "print(\"Total Training healthy Images\",num_healthy_train)\n",
        "print(\"Total Training mas Images\",num_mas_train)\n",
        "print(\"Total Training nuc Images\",num_nuc_train)\n",
        "print(\"Total Training ulcer Images\",num_ulcer_train)\n",
        "print(\"--\")\n",
        "print(\"Total test cat Images\",num_cat_test)\n",
        "print(\"Total test healthy Images\",num_healthy_test)\n",
        "\n",
        "print(\"Total test mas Images\",num_mas_test)\n",
        "print(\"Total Training conj Images\",num_conj_test)\n",
        "print(\"Total Training ulcer Images\",num_ulcer_test)\n",
        "print(\"Total Training nuc Images\",num_nuc_test)\n",
        "print(\"--\")\n",
        "print(\"Total validation cat Images\",num_cat_val)\n",
        "print(\"Total validation healthy Images\",num_healthy_val)\n",
        "\n",
        "print(\"Total validation mas Images\",num_mas_val)\n",
        "print(\"Total Training conj Images\",num_conj_val)\n",
        "print(\"Total Training ulcer Images\",num_ulcer_val)\n",
        "print(\"Total Training nuc Images\",num_nuc_val)\n",
        "print(\"--\")"
      ],
      "metadata": {
        "id": "ds-zpWMNLkcC"
      },
      "execution_count": null,
      "outputs": []
    },
    {
      "cell_type": "code",
      "source": [
        "total_train = num_cat_train+num_healthy_train+num_mas_train+num_conj_train+num_ulcer_train+num_nuc_train\n",
        "total_validation = num_cat_val+num_healthy_val+num_mas_val+num_conj_val+num_ulcer_val+num_nuc_val\n",
        "total_test = num_cat_test+num_healthy_test+num_mas_test+num_conj_test+num_ulcer_test+num_nuc_test\n",
        "\n",
        "total_images = total_train + total_validation + total_test\n",
        "\n",
        "print(\"--\")\n",
        "print(\"Total Training Images\",total_train)\n",
        "print(\"--\")\n",
        "print(\"Total Validation Images\",total_validation)\n",
        "print(\"--\")\n",
        "print(\"Total Testing Images\",total_test)\n",
        "print(\"--\")\n",
        "print(\"Total Images\",total_images)\n",
        "print(\"--\")"
      ],
      "metadata": {
        "id": "ezqq_YpqLmHd"
      },
      "execution_count": null,
      "outputs": []
    },
    {
      "cell_type": "code",
      "source": [
        "IMG_SHAPE  = 224\n",
        "batch_size = 32 #64 as 32 too slow"
      ],
      "metadata": {
        "id": "jzfhO0FVLqTZ"
      },
      "execution_count": null,
      "outputs": []
    },
    {
      "cell_type": "code",
      "source": [
        "image_gen_train = ImageDataGenerator(rescale = 1./255)\n",
        "train_data_gen = image_gen_train.flow_from_directory(batch_size = batch_size,\n",
        "directory = train_dir,\n",
        "shuffle= True,\n",
        "target_size = (IMG_SHAPE,IMG_SHAPE),\n",
        "class_mode = 'categorical')\n",
        "image_generator_validation = ImageDataGenerator(rescale=1./255)\n",
        "val_data_gen = image_generator_validation.flow_from_directory(batch_size=batch_size,\n",
        "directory=val_dir,\n",
        "target_size=(IMG_SHAPE, IMG_SHAPE),\n",
        "class_mode='categorical')\n",
        "image_gen_test = ImageDataGenerator(rescale=1./255)\n",
        "test_data_gen = image_gen_test.flow_from_directory(batch_size=batch_size,\n",
        "directory=test_dir,\n",
        "target_size=(IMG_SHAPE, IMG_SHAPE),\n",
        "class_mode='categorical')"
      ],
      "metadata": {
        "id": "Vuo6nShWLslS"
      },
      "execution_count": null,
      "outputs": []
    },
    {
      "cell_type": "code",
      "source": [
        "os.listdir(train_dir)"
      ],
      "metadata": {
        "id": "UDWWM7nxLuaL"
      },
      "execution_count": null,
      "outputs": []
    },
    {
      "cell_type": "code",
      "source": [
        "print(train_data_gen[0][0].shape, train_data_gen[0][1].shape)"
      ],
      "metadata": {
        "id": "tAgmcEH9L7nl"
      },
      "execution_count": null,
      "outputs": []
    },
    {
      "cell_type": "code",
      "source": [
        "print(train_data_gen[0][1])  #checking labels"
      ],
      "metadata": {
        "id": "bf8wIO1dL9iP"
      },
      "execution_count": null,
      "outputs": []
    },
    {
      "cell_type": "code",
      "source": [
        "pre_trained_model = tf.keras.applications.VGG16(input_shape=(224, 224, 3), include_top=False, weights=\"imagenet\")"
      ],
      "metadata": {
        "id": "ZmnH1LugL_QJ"
      },
      "execution_count": null,
      "outputs": []
    },
    {
      "cell_type": "code",
      "source": [
        "for layer in pre_trained_model.layers:\n",
        "  print(layer.name)\n",
        "layer.trainable = False"
      ],
      "metadata": {
        "id": "GjdZCmjHMFIo"
      },
      "execution_count": null,
      "outputs": []
    },
    {
      "cell_type": "code",
      "source": [
        "last_layer = pre_trained_model.get_layer('block5_pool')\n",
        "last_output = last_layer.output\n",
        "x = tf.keras.layers.GlobalMaxPooling2D()(last_output)\n",
        "x = tf.keras.layers.Dense(512, activation='relu')(x)\n",
        "x = tf.keras.layers.Dropout(0.5)(x)\n",
        "x = tf.keras.layers.Dense(6, activation='softmax')(x)"
      ],
      "metadata": {
        "id": "yxAKuYUyMFbF"
      },
      "execution_count": null,
      "outputs": []
    },
    {
      "cell_type": "code",
      "source": [
        "model = tf.keras.Model(pre_trained_model.input, x)\n"
      ],
      "metadata": {
        "id": "AluSsEF_MLL2"
      },
      "execution_count": null,
      "outputs": []
    },
    {
      "cell_type": "code",
      "source": [
        "# model.compile(loss='binary_crossentropy', optimizer='adam', metrics = ['accuracy']) #only for two classes\n",
        "#model.compile(loss = 'sparse_categorical_crossentropy', optimizer = 'adam', metrics = ['accuracy']) # didn't work\n",
        "model.compile(optimizer='adam', loss='categorical_crossentropy', metrics=['accuracy'])"
      ],
      "metadata": {
        "id": "ZwrFmpdyMLYh"
      },
      "execution_count": null,
      "outputs": []
    },
    {
      "cell_type": "code",
      "source": [
        "model.summary()"
      ],
      "metadata": {
        "id": "TyToJZ4XMM8G"
      },
      "execution_count": null,
      "outputs": []
    },
    {
      "cell_type": "code",
      "source": [
        "optimizer = tf.keras.optimizers.Adam(learning_rate=0.001)  # Adjust learning rate as needed\n",
        "\n",
        "vgg_classifier = model.fit(train_data_gen,\n",
        "                           steps_per_epoch=(total_train // batch_size),\n",
        "                           epochs=25,\n",
        "                           validation_data=val_data_gen,\n",
        "                           validation_steps=(total_validation // batch_size),\n",
        "                           batch_size=batch_size,\n",
        "                           verbose=1)"
      ],
      "metadata": {
        "id": "KjoVtDd34lH6"
      },
      "execution_count": null,
      "outputs": []
    },
    {
      "cell_type": "code",
      "source": [
        "#model fit with early stopping\n",
        "\n",
        "# from tensorflow.keras.callbacks import EarlyStopping\n",
        "\n",
        "# early_stopping = EarlyStopping(monitor='val_loss', patience=3, restore_best_weights=True)\n",
        "\n",
        "# vgg_classifier = model.fit(train_data_gen,\n",
        "#                           steps_per_epoch=(total_train // batch_size),\n",
        "#                           epochs=25,\n",
        "#                           validation_data=val_data_gen,\n",
        "#                           validation_steps=(total_validation // batch_size),\n",
        "#                           batch_size=batch_size,\n",
        "#                           verbose=1,\n",
        "#                           callbacks=[early_stopping])\n"
      ],
      "metadata": {
        "id": "LNSBfU5-c0Py"
      },
      "execution_count": null,
      "outputs": []
    },
    {
      "cell_type": "code",
      "source": [
        "result = model.evaluate(test_data_gen,batch_size=batch_size)\n",
        "print(\"test_loss, test accuracy\",result)"
      ],
      "metadata": {
        "id": "ZzxURdmAMSKJ"
      },
      "execution_count": null,
      "outputs": []
    },
    {
      "cell_type": "code",
      "source": [
        "from sklearn.metrics import classification_report\n",
        "import numpy as np\n",
        "\n",
        "true_labels = []\n",
        "predicted_probabilities = []\n",
        "\n",
        "for _ in range(len(test_data_gen)):\n",
        "    x, y = test_data_gen.next()\n",
        "    true_labels.extend(np.argmax(y, axis=1))\n",
        "    predicted_probabilities.extend(model.predict(x))\n",
        "\n",
        "predicted_classes = np.argmax(predicted_probabilities, axis=1)\n",
        "\n",
        "print(\"Classification Report:\\n\")\n",
        "print(classification_report(true_labels, predicted_classes))\n"
      ],
      "metadata": {
        "id": "cX6wPwr0wfVA"
      },
      "execution_count": null,
      "outputs": []
    },
    {
      "cell_type": "code",
      "source": [
        "from sklearn.metrics import confusion_matrix\n",
        "_, test_acc = result\n",
        "\n",
        "predictions = model.predict(test_data_gen, batch_size=batch_size)\n",
        "\n",
        "true_labels = test_data_gen.classes\n",
        "\n",
        "import numpy as np\n",
        "predicted_classes = np.argmax(predictions, axis=1)\n",
        "cm = confusion_matrix(true_labels, predicted_classes)\n",
        "print(\"Confusion Matrix:\\n\")\n",
        "print(cm)\n",
        "print(\"\\nTest Accuracy:\", test_acc)"
      ],
      "metadata": {
        "id": "dB5MSN_y3frA"
      },
      "execution_count": null,
      "outputs": []
    },
    {
      "cell_type": "code",
      "source": [
        "end = timer()\n",
        "print(end - start)"
      ],
      "metadata": {
        "id": "kLfN3N_NCXqs"
      },
      "execution_count": null,
      "outputs": []
    }
  ]
}